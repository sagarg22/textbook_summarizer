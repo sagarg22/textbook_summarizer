{
  "nbformat": 4,
  "nbformat_minor": 0,
  "metadata": {
    "colab": {
      "provenance": []
    },
    "kernelspec": {
      "name": "python3",
      "display_name": "Python 3"
    },
    "language_info": {
      "name": "python"
    }
  },
  "cells": [
    {
      "cell_type": "markdown",
      "source": [
        "## Import Library"
      ],
      "metadata": {
        "id": "j8t0P4_l9VwD"
      }
    },
    {
      "cell_type": "code",
      "execution_count": 1,
      "metadata": {
        "id": "FEU_E_tQ8E1u",
        "colab": {
          "base_uri": "https://localhost:8080/"
        },
        "outputId": "32b5991c-844f-4792-f1e4-5ac5ddb1f322"
      },
      "outputs": [
        {
          "output_type": "stream",
          "name": "stderr",
          "text": [
            "[nltk_data] Downloading package punkt to /root/nltk_data...\n",
            "[nltk_data]   Unzipping tokenizers/punkt.zip.\n",
            "[nltk_data] Downloading package stopwords to /root/nltk_data...\n",
            "[nltk_data]   Unzipping corpora/stopwords.zip.\n"
          ]
        },
        {
          "output_type": "stream",
          "name": "stdout",
          "text": [
            "Mounted at /content/drive\n"
          ]
        }
      ],
      "source": [
        "import pandas as pd\n",
        "import numpy as np\n",
        "import torch\n",
        "import nltk\n",
        "nltk.download('punkt')\n",
        "nltk.download('stopwords')\n",
        "from google.colab import drive\n",
        "drive.mount('/content/drive')"
      ]
    },
    {
      "cell_type": "markdown",
      "source": [
        "## Data Processing"
      ],
      "metadata": {
        "id": "AnSiYWPA9jNb"
      }
    },
    {
      "cell_type": "markdown",
      "source": [
        "#### Paragraphs texts"
      ],
      "metadata": {
        "id": "-VvJI3eq9oS_"
      }
    },
    {
      "cell_type": "code",
      "source": [
        "paragraphs = pd.read_json(\"/content/drive/MyDrive/vip_project_spring_2023/data/textbook_df.json\")"
      ],
      "metadata": {
        "id": "w9A5bsGe9Gwv"
      },
      "execution_count": 2,
      "outputs": []
    },
    {
      "cell_type": "code",
      "source": [
        "paragraphs"
      ],
      "metadata": {
        "colab": {
          "base_uri": "https://localhost:8080/",
          "height": 419
        },
        "id": "xlaf-7A-_HzL",
        "outputId": "8a1bfbde-e568-43e5-bcce-bc9023fbcb8c"
      },
      "execution_count": 3,
      "outputs": [
        {
          "output_type": "execute_result",
          "data": {
            "text/plain": [
              "                                          Textbook_Data  Chapter.Section\n",
              "0                           CHAPTER -2 Complex Numbers             -2.00\n",
              "1     The basic manipulations of complex numbers are...            -2.00\n",
              "2      Simple algebraic rules: Operations on complex...            -2.00\n",
              "3      Elimination of trigonometry: Eulers formula f...            -2.00\n",
              "4      Representation by vectors: A vector drawn fro...            -2.00\n",
              "...                                                 ...              ...\n",
              "999   We also continued to stress the important conc...            10.12\n",
              "1000  Lab~#11 is devoted to IIR filters. This lab us...            10.12\n",
              "1001   Lab: #11 PeZ, the,, and domains The PeZ tool ...            10.12\n",
              "1002  The CD-ROM also contains the following demonst...            10.12\n",
              "1003   A set of “three-domain” movies that show how ...            10.12\n",
              "\n",
              "[1004 rows x 2 columns]"
            ],
            "text/html": [
              "\n",
              "  <div id=\"df-4516125b-dde6-4aba-bdef-20aea90d6ada\">\n",
              "    <div class=\"colab-df-container\">\n",
              "      <div>\n",
              "<style scoped>\n",
              "    .dataframe tbody tr th:only-of-type {\n",
              "        vertical-align: middle;\n",
              "    }\n",
              "\n",
              "    .dataframe tbody tr th {\n",
              "        vertical-align: top;\n",
              "    }\n",
              "\n",
              "    .dataframe thead th {\n",
              "        text-align: right;\n",
              "    }\n",
              "</style>\n",
              "<table border=\"1\" class=\"dataframe\">\n",
              "  <thead>\n",
              "    <tr style=\"text-align: right;\">\n",
              "      <th></th>\n",
              "      <th>Textbook_Data</th>\n",
              "      <th>Chapter.Section</th>\n",
              "    </tr>\n",
              "  </thead>\n",
              "  <tbody>\n",
              "    <tr>\n",
              "      <th>0</th>\n",
              "      <td>CHAPTER -2 Complex Numbers</td>\n",
              "      <td>-2.00</td>\n",
              "    </tr>\n",
              "    <tr>\n",
              "      <th>1</th>\n",
              "      <td>The basic manipulations of complex numbers are...</td>\n",
              "      <td>-2.00</td>\n",
              "    </tr>\n",
              "    <tr>\n",
              "      <th>2</th>\n",
              "      <td>Simple algebraic rules: Operations on complex...</td>\n",
              "      <td>-2.00</td>\n",
              "    </tr>\n",
              "    <tr>\n",
              "      <th>3</th>\n",
              "      <td>Elimination of trigonometry: Eulers formula f...</td>\n",
              "      <td>-2.00</td>\n",
              "    </tr>\n",
              "    <tr>\n",
              "      <th>4</th>\n",
              "      <td>Representation by vectors: A vector drawn fro...</td>\n",
              "      <td>-2.00</td>\n",
              "    </tr>\n",
              "    <tr>\n",
              "      <th>...</th>\n",
              "      <td>...</td>\n",
              "      <td>...</td>\n",
              "    </tr>\n",
              "    <tr>\n",
              "      <th>999</th>\n",
              "      <td>We also continued to stress the important conc...</td>\n",
              "      <td>10.12</td>\n",
              "    </tr>\n",
              "    <tr>\n",
              "      <th>1000</th>\n",
              "      <td>Lab~#11 is devoted to IIR filters. This lab us...</td>\n",
              "      <td>10.12</td>\n",
              "    </tr>\n",
              "    <tr>\n",
              "      <th>1001</th>\n",
              "      <td>Lab: #11 PeZ, the,, and domains The PeZ tool ...</td>\n",
              "      <td>10.12</td>\n",
              "    </tr>\n",
              "    <tr>\n",
              "      <th>1002</th>\n",
              "      <td>The CD-ROM also contains the following demonst...</td>\n",
              "      <td>10.12</td>\n",
              "    </tr>\n",
              "    <tr>\n",
              "      <th>1003</th>\n",
              "      <td>A set of “three-domain” movies that show how ...</td>\n",
              "      <td>10.12</td>\n",
              "    </tr>\n",
              "  </tbody>\n",
              "</table>\n",
              "<p>1004 rows × 2 columns</p>\n",
              "</div>\n",
              "      <button class=\"colab-df-convert\" onclick=\"convertToInteractive('df-4516125b-dde6-4aba-bdef-20aea90d6ada')\"\n",
              "              title=\"Convert this dataframe to an interactive table.\"\n",
              "              style=\"display:none;\">\n",
              "        \n",
              "  <svg xmlns=\"http://www.w3.org/2000/svg\" height=\"24px\"viewBox=\"0 0 24 24\"\n",
              "       width=\"24px\">\n",
              "    <path d=\"M0 0h24v24H0V0z\" fill=\"none\"/>\n",
              "    <path d=\"M18.56 5.44l.94 2.06.94-2.06 2.06-.94-2.06-.94-.94-2.06-.94 2.06-2.06.94zm-11 1L8.5 8.5l.94-2.06 2.06-.94-2.06-.94L8.5 2.5l-.94 2.06-2.06.94zm10 10l.94 2.06.94-2.06 2.06-.94-2.06-.94-.94-2.06-.94 2.06-2.06.94z\"/><path d=\"M17.41 7.96l-1.37-1.37c-.4-.4-.92-.59-1.43-.59-.52 0-1.04.2-1.43.59L10.3 9.45l-7.72 7.72c-.78.78-.78 2.05 0 2.83L4 21.41c.39.39.9.59 1.41.59.51 0 1.02-.2 1.41-.59l7.78-7.78 2.81-2.81c.8-.78.8-2.07 0-2.86zM5.41 20L4 18.59l7.72-7.72 1.47 1.35L5.41 20z\"/>\n",
              "  </svg>\n",
              "      </button>\n",
              "      \n",
              "  <style>\n",
              "    .colab-df-container {\n",
              "      display:flex;\n",
              "      flex-wrap:wrap;\n",
              "      gap: 12px;\n",
              "    }\n",
              "\n",
              "    .colab-df-convert {\n",
              "      background-color: #E8F0FE;\n",
              "      border: none;\n",
              "      border-radius: 50%;\n",
              "      cursor: pointer;\n",
              "      display: none;\n",
              "      fill: #1967D2;\n",
              "      height: 32px;\n",
              "      padding: 0 0 0 0;\n",
              "      width: 32px;\n",
              "    }\n",
              "\n",
              "    .colab-df-convert:hover {\n",
              "      background-color: #E2EBFA;\n",
              "      box-shadow: 0px 1px 2px rgba(60, 64, 67, 0.3), 0px 1px 3px 1px rgba(60, 64, 67, 0.15);\n",
              "      fill: #174EA6;\n",
              "    }\n",
              "\n",
              "    [theme=dark] .colab-df-convert {\n",
              "      background-color: #3B4455;\n",
              "      fill: #D2E3FC;\n",
              "    }\n",
              "\n",
              "    [theme=dark] .colab-df-convert:hover {\n",
              "      background-color: #434B5C;\n",
              "      box-shadow: 0px 1px 3px 1px rgba(0, 0, 0, 0.15);\n",
              "      filter: drop-shadow(0px 1px 2px rgba(0, 0, 0, 0.3));\n",
              "      fill: #FFFFFF;\n",
              "    }\n",
              "  </style>\n",
              "\n",
              "      <script>\n",
              "        const buttonEl =\n",
              "          document.querySelector('#df-4516125b-dde6-4aba-bdef-20aea90d6ada button.colab-df-convert');\n",
              "        buttonEl.style.display =\n",
              "          google.colab.kernel.accessAllowed ? 'block' : 'none';\n",
              "\n",
              "        async function convertToInteractive(key) {\n",
              "          const element = document.querySelector('#df-4516125b-dde6-4aba-bdef-20aea90d6ada');\n",
              "          const dataTable =\n",
              "            await google.colab.kernel.invokeFunction('convertToInteractive',\n",
              "                                                     [key], {});\n",
              "          if (!dataTable) return;\n",
              "\n",
              "          const docLinkHtml = 'Like what you see? Visit the ' +\n",
              "            '<a target=\"_blank\" href=https://colab.research.google.com/notebooks/data_table.ipynb>data table notebook</a>'\n",
              "            + ' to learn more about interactive tables.';\n",
              "          element.innerHTML = '';\n",
              "          dataTable['output_type'] = 'display_data';\n",
              "          await google.colab.output.renderOutput(dataTable, element);\n",
              "          const docLink = document.createElement('div');\n",
              "          docLink.innerHTML = docLinkHtml;\n",
              "          element.appendChild(docLink);\n",
              "        }\n",
              "      </script>\n",
              "    </div>\n",
              "  </div>\n",
              "  "
            ]
          },
          "metadata": {},
          "execution_count": 3
        }
      ]
    },
    {
      "cell_type": "code",
      "source": [
        "paragraphs[\"Textbook_Data\"][0]"
      ],
      "metadata": {
        "colab": {
          "base_uri": "https://localhost:8080/",
          "height": 35
        },
        "id": "NG4XjIniDBVp",
        "outputId": "8d842c26-4c3e-478c-b2c7-5050a03e18e2"
      },
      "execution_count": 4,
      "outputs": [
        {
          "output_type": "execute_result",
          "data": {
            "text/plain": [
              "'CHAPTER -2 Complex Numbers '"
            ],
            "application/vnd.google.colaboratory.intrinsic+json": {
              "type": "string"
            }
          },
          "metadata": {},
          "execution_count": 4
        }
      ]
    },
    {
      "cell_type": "code",
      "source": [
        "length = len(paragraphs)\n",
        "length"
      ],
      "metadata": {
        "colab": {
          "base_uri": "https://localhost:8080/"
        },
        "id": "W5tUHdBmCJCy",
        "outputId": "080bb4e0-1b4b-48c9-ae4a-ae6065cd53f5"
      },
      "execution_count": 5,
      "outputs": [
        {
          "output_type": "execute_result",
          "data": {
            "text/plain": [
              "1004"
            ]
          },
          "metadata": {},
          "execution_count": 5
        }
      ]
    },
    {
      "cell_type": "markdown",
      "source": [
        "#### Sub_chapters in the textbook"
      ],
      "metadata": {
        "id": "Sje54lFk9txS"
      }
    },
    {
      "cell_type": "code",
      "source": [
        "sections = {i for i in paragraphs[\"Chapter.Section\"]}\n",
        "sections = [s for s in sections]\n",
        "sections.sort()\n",
        "print(sections)"
      ],
      "metadata": {
        "colab": {
          "base_uri": "https://localhost:8080/"
        },
        "id": "SbWbkSk8_bEL",
        "outputId": "18a5ad7a-c19f-4d12-8cd4-a22f81f0fa41"
      },
      "execution_count": 6,
      "outputs": [
        {
          "output_type": "stream",
          "name": "stdout",
          "text": [
            "[-2.7, -2.6, -2.5, -2.4, -2.3, -2.2, -2.1, -2.0, -1.7, -1.6, -1.5, -1.4, -1.3, -1.2, -1.1, -1.0, 1.0, 1.1, 1.2, 1.3, 1.4, 2.0, 2.1, 2.2, 2.3, 2.4, 2.5, 2.6, 2.7, 2.8, 2.9, 3.0, 3.1, 3.11, 3.2, 3.3, 3.4, 3.5, 3.6, 3.7, 3.8, 3.9, 4.0, 4.1, 4.2, 4.3, 4.4, 4.5, 4.6, 5.0, 5.1, 5.2, 5.3, 5.4, 5.5, 5.6, 5.7, 5.8, 5.9, 6.0, 6.1, 6.2, 6.3, 6.4, 6.5, 6.6, 6.7, 6.8, 6.9, 7.1, 7.2, 7.3, 7.4, 7.5, 7.6, 7.7, 8.1, 8.11, 8.2, 8.4, 8.5, 8.6, 8.7, 8.8, 8.9, 9.0, 9.1, 9.2, 9.3, 9.4, 9.5, 9.6, 9.7, 9.8, 9.9, 10.0, 10.1, 10.11, 10.12, 10.2, 10.3, 10.4, 10.5, 10.6, 10.7, 10.8, 10.9]\n"
          ]
        }
      ]
    },
    {
      "cell_type": "markdown",
      "source": [
        "#### Explore with Chapter 1 - Section 0"
      ],
      "metadata": {
        "id": "dhWQCrRuBYBG"
      }
    },
    {
      "cell_type": "code",
      "source": [
        "section_1_0_text = [paragraphs[\"Textbook_Data\"][i] for i in range(length) if paragraphs[\"Chapter.Section\"][i] == 1.0]\n",
        "section_1_0_text"
      ],
      "metadata": {
        "colab": {
          "base_uri": "https://localhost:8080/"
        },
        "id": "AtXHL35bBh54",
        "outputId": "dc916944-26aa-47cf-c505-de7b43ad2039"
      },
      "execution_count": 7,
      "outputs": [
        {
          "output_type": "execute_result",
          "data": {
            "text/plain": [
              "['CHAPTER 1 Introduction This is a book about signals and systems. In this age of multimedia computers, audio and video entertainment systems, and digital communication systems, it is almost certain that you, the reader of this text, have formed some impression of the meaning of the terms signal and system, and you probably use the terms often in daily conversation.',\n",
              " 'It is likely that your usage and understanding of the terms are correct within some rather broad definitions. For example, you may think of a signal as “something” that carries information. Usually, that something is a pattern of variations of a physical quantity that can be manipulated, stored, or transmitted by physical processes. Examples include speech signals, audio signals, video or image signals, biomedical signals, radar signals, and seismic signals, to name just a few. An important point is that signals can take many equivalent forms or representations. For example, a speech signal is produced as an acoustic signal, but it can be converted to an electrical signal by a microphone, or a pattern of magnetization on a magnetic tape, or even a string of numbers as in digital audio recording.',\n",
              " 'The term system may be somewhat more ambiguous and subject to interpretation. For example, we often use “system” to refer to a large organization that administers or implements some process, such as the “Social Security system” or the “airline transportation system.” However, we will be interested in a much narrower definition that is very closely linked to signals. More specifically, a system, for our purposes, is something that can manipulate, change, record, or transmit signals. For example, an audio compact disk (CD) recording stores or represents a music signal as sequence of numbers. A CD player is a system for converting the numbers stored on the disk (i.e., the numerical representation of the signal) to an acoustic signal that we can hear. In general, systems operate on signals to produce new signals or new signal representations.',\n",
              " 'Our goal in this text is to develop a framework wherein it is possible to make precise statements about both signals and systems. Specifically, we want to show that mathematics is an appropriate language for describing and understanding signals and systems. We also want to show that the representation of signals and systems by mathematical equations allows us to understand how signals and systems interact and how we can design and implement systems that achieve a prescribed purpose.']"
            ]
          },
          "metadata": {},
          "execution_count": 7
        }
      ]
    },
    {
      "cell_type": "code",
      "source": [
        "section_1_0_string = ''\n",
        "for i in section_1_0_text:\n",
        "  section_1_0_string += ' ' + str(i)\n",
        "section_1_0_string"
      ],
      "metadata": {
        "colab": {
          "base_uri": "https://localhost:8080/",
          "height": 137
        },
        "id": "WUtOOowd-ObF",
        "outputId": "6661ea18-ffb2-48ef-fa3e-7ba658da1ea4"
      },
      "execution_count": 8,
      "outputs": [
        {
          "output_type": "execute_result",
          "data": {
            "text/plain": [
              "' CHAPTER 1 Introduction This is a book about signals and systems. In this age of multimedia computers, audio and video entertainment systems, and digital communication systems, it is almost certain that you, the reader of this text, have formed some impression of the meaning of the terms signal and system, and you probably use the terms often in daily conversation. It is likely that your usage and understanding of the terms are correct within some rather broad definitions. For example, you may think of a signal as “something” that carries information. Usually, that something is a pattern of variations of a physical quantity that can be manipulated, stored, or transmitted by physical processes. Examples include speech signals, audio signals, video or image signals, biomedical signals, radar signals, and seismic signals, to name just a few. An important point is that signals can take many equivalent forms or representations. For example, a speech signal is produced as an acoustic signal, but it can be converted to an electrical signal by a microphone, or a pattern of magnetization on a magnetic tape, or even a string of numbers as in digital audio recording. The term system may be somewhat more ambiguous and subject to interpretation. For example, we often use “system” to refer to a large organization that administers or implements some process, such as the “Social Security system” or the “airline transportation system.” However, we will be interested in a much narrower definition that is very closely linked to signals. More specifically, a system, for our purposes, is something that can manipulate, change, record, or transmit signals. For example, an audio compact disk (CD) recording stores or represents a music signal as sequence of numbers. A CD player is a system for converting the numbers stored on the disk (i.e., the numerical representation of the signal) to an acoustic signal that we can hear. In general, systems operate on signals to produce new signals or new signal representations. Our goal in this text is to develop a framework wherein it is possible to make precise statements about both signals and systems. Specifically, we want to show that mathematics is an appropriate language for describing and understanding signals and systems. We also want to show that the representation of signals and systems by mathematical equations allows us to understand how signals and systems interact and how we can design and implement systems that achieve a prescribed purpose.'"
            ],
            "application/vnd.google.colaboratory.intrinsic+json": {
              "type": "string"
            }
          },
          "metadata": {},
          "execution_count": 8
        }
      ]
    },
    {
      "cell_type": "markdown",
      "source": [
        "#### Append paragraphs of each sub-chapters to the string of the whole sub_chapter"
      ],
      "metadata": {
        "id": "Mc7F6-5G94Za"
      }
    },
    {
      "cell_type": "code",
      "source": [
        "def to_string(section):\n",
        "  section_text = [paragraphs[\"Textbook_Data\"][i] for i in range(length) if paragraphs[\"Chapter.Section\"][i] == section]\n",
        "  section_string = ''\n",
        "  for i in section_text:\n",
        "    section_string += ' ' + str(i)\n",
        "  return section_string"
      ],
      "metadata": {
        "id": "pRS7yNffY4z8"
      },
      "execution_count": 9,
      "outputs": []
    },
    {
      "cell_type": "code",
      "source": [
        "to_string(1.0)"
      ],
      "metadata": {
        "colab": {
          "base_uri": "https://localhost:8080/",
          "height": 137
        },
        "id": "2jhWn4fSZaXs",
        "outputId": "df460d47-2591-4032-8a41-ef17dbb19c7b"
      },
      "execution_count": 10,
      "outputs": [
        {
          "output_type": "execute_result",
          "data": {
            "text/plain": [
              "' CHAPTER 1 Introduction This is a book about signals and systems. In this age of multimedia computers, audio and video entertainment systems, and digital communication systems, it is almost certain that you, the reader of this text, have formed some impression of the meaning of the terms signal and system, and you probably use the terms often in daily conversation. It is likely that your usage and understanding of the terms are correct within some rather broad definitions. For example, you may think of a signal as “something” that carries information. Usually, that something is a pattern of variations of a physical quantity that can be manipulated, stored, or transmitted by physical processes. Examples include speech signals, audio signals, video or image signals, biomedical signals, radar signals, and seismic signals, to name just a few. An important point is that signals can take many equivalent forms or representations. For example, a speech signal is produced as an acoustic signal, but it can be converted to an electrical signal by a microphone, or a pattern of magnetization on a magnetic tape, or even a string of numbers as in digital audio recording. The term system may be somewhat more ambiguous and subject to interpretation. For example, we often use “system” to refer to a large organization that administers or implements some process, such as the “Social Security system” or the “airline transportation system.” However, we will be interested in a much narrower definition that is very closely linked to signals. More specifically, a system, for our purposes, is something that can manipulate, change, record, or transmit signals. For example, an audio compact disk (CD) recording stores or represents a music signal as sequence of numbers. A CD player is a system for converting the numbers stored on the disk (i.e., the numerical representation of the signal) to an acoustic signal that we can hear. In general, systems operate on signals to produce new signals or new signal representations. Our goal in this text is to develop a framework wherein it is possible to make precise statements about both signals and systems. Specifically, we want to show that mathematics is an appropriate language for describing and understanding signals and systems. We also want to show that the representation of signals and systems by mathematical equations allows us to understand how signals and systems interact and how we can design and implement systems that achieve a prescribed purpose.'"
            ],
            "application/vnd.google.colaboratory.intrinsic+json": {
              "type": "string"
            }
          },
          "metadata": {},
          "execution_count": 10
        }
      ]
    },
    {
      "cell_type": "markdown",
      "source": [
        "## Text Summarization algorithm"
      ],
      "metadata": {
        "id": "JvivFVsp-Xcc"
      }
    },
    {
      "cell_type": "markdown",
      "source": [
        "#### Import NLTK"
      ],
      "metadata": {
        "id": "YddaOepg-UJM"
      }
    },
    {
      "cell_type": "code",
      "source": [
        "from nltk.stem.snowball import SnowballStemmer\n",
        "from nltk.corpus import stopwords"
      ],
      "metadata": {
        "id": "gND2D-duFY1e"
      },
      "execution_count": 11,
      "outputs": []
    },
    {
      "cell_type": "code",
      "source": [
        "from nltk.tokenize import word_tokenize, sent_tokenize\n",
        "sentences = sent_tokenize(section_1_0_string)\n",
        "sentences"
      ],
      "metadata": {
        "colab": {
          "base_uri": "https://localhost:8080/"
        },
        "id": "l9oY7Kj2TE2M",
        "outputId": "8e70464c-8785-48ea-e29f-32e9bc39d0e7"
      },
      "execution_count": 12,
      "outputs": [
        {
          "output_type": "execute_result",
          "data": {
            "text/plain": [
              "[' CHAPTER 1 Introduction This is a book about signals and systems.',\n",
              " 'In this age of multimedia computers, audio and video entertainment systems, and digital communication systems, it is almost certain that you, the reader of this text, have formed some impression of the meaning of the terms signal and system, and you probably use the terms often in daily conversation.',\n",
              " 'It is likely that your usage and understanding of the terms are correct within some rather broad definitions.',\n",
              " 'For example, you may think of a signal as “something” that carries information.',\n",
              " 'Usually, that something is a pattern of variations of a physical quantity that can be manipulated, stored, or transmitted by physical processes.',\n",
              " 'Examples include speech signals, audio signals, video or image signals, biomedical signals, radar signals, and seismic signals, to name just a few.',\n",
              " 'An important point is that signals can take many equivalent forms or representations.',\n",
              " 'For example, a speech signal is produced as an acoustic signal, but it can be converted to an electrical signal by a microphone, or a pattern of magnetization on a magnetic tape, or even a string of numbers as in digital audio recording.',\n",
              " 'The term system may be somewhat more ambiguous and subject to interpretation.',\n",
              " 'For example, we often use “system” to refer to a large organization that administers or implements some process, such as the “Social Security system” or the “airline transportation system.” However, we will be interested in a much narrower definition that is very closely linked to signals.',\n",
              " 'More specifically, a system, for our purposes, is something that can manipulate, change, record, or transmit signals.',\n",
              " 'For example, an audio compact disk (CD) recording stores or represents a music signal as sequence of numbers.',\n",
              " 'A CD player is a system for converting the numbers stored on the disk (i.e., the numerical representation of the signal) to an acoustic signal that we can hear.',\n",
              " 'In general, systems operate on signals to produce new signals or new signal representations.',\n",
              " 'Our goal in this text is to develop a framework wherein it is possible to make precise statements about both signals and systems.',\n",
              " 'Specifically, we want to show that mathematics is an appropriate language for describing and understanding signals and systems.',\n",
              " 'We also want to show that the representation of signals and systems by mathematical equations allows us to understand how signals and systems interact and how we can design and implement systems that achieve a prescribed purpose.']"
            ]
          },
          "metadata": {},
          "execution_count": 12
        }
      ]
    },
    {
      "cell_type": "code",
      "source": [
        "def create_dictionary_table(text_string) -> dict:\n",
        "   \n",
        "    # Removing stop words\n",
        "    stop_words = set(stopwords.words(\"english\"))\n",
        "    stop_words.add(';')\n",
        "    stop_words.add('“')\n",
        "    stop_words.add('.')\n",
        "\n",
        "    stop_words.add('(')\n",
        "    stop_words.add(')')\n",
        "    stop_words.add(',')\n",
        "    stop_words.add('”')\n",
        "    # stop_words.add('※')\n",
        "    stop_words.add(':')\n",
        "    stop_words.add('{')\n",
        "    stop_words.add('}')\n",
        "    \n",
        "    words = word_tokenize(text_string.lower())\n",
        "    \n",
        "    # Reducing words to their root form\n",
        "    # stemer = SnowballStemmer(\"english\")\n",
        "    \n",
        "    # Creating dictionary for the word frequency table\n",
        "    frequency_table = dict()\n",
        "    for wd in words:\n",
        "        # wd = stemer.stem(wd)\n",
        "        if wd in stop_words:\n",
        "            continue\n",
        "        if wd in frequency_table:\n",
        "            frequency_table[wd] += 1\n",
        "        else:\n",
        "            frequency_table[wd] = 1\n",
        "\n",
        "    return frequency_table"
      ],
      "metadata": {
        "id": "OiVUtbrLHMGN"
      },
      "execution_count": 13,
      "outputs": []
    },
    {
      "cell_type": "code",
      "source": [
        "frequency_table = create_dictionary_table(section_1_0_string)\n",
        "frequency_table\n"
      ],
      "metadata": {
        "id": "USM9oWNFHlty",
        "colab": {
          "base_uri": "https://localhost:8080/"
        },
        "outputId": "cba032b5-9812-4a1d-9a2f-bd3bee39b340"
      },
      "execution_count": 14,
      "outputs": [
        {
          "output_type": "execute_result",
          "data": {
            "text/plain": [
              "{'chapter': 1,\n",
              " '1': 1,\n",
              " 'introduction': 1,\n",
              " 'book': 1,\n",
              " 'signals': 16,\n",
              " 'systems': 9,\n",
              " 'age': 1,\n",
              " 'multimedia': 1,\n",
              " 'computers': 1,\n",
              " 'audio': 4,\n",
              " 'video': 2,\n",
              " 'entertainment': 1,\n",
              " 'digital': 2,\n",
              " 'communication': 1,\n",
              " 'almost': 1,\n",
              " 'certain': 1,\n",
              " 'reader': 1,\n",
              " 'text': 2,\n",
              " 'formed': 1,\n",
              " 'impression': 1,\n",
              " 'meaning': 1,\n",
              " 'terms': 3,\n",
              " 'signal': 9,\n",
              " 'system': 6,\n",
              " 'probably': 1,\n",
              " 'use': 2,\n",
              " 'often': 2,\n",
              " 'daily': 1,\n",
              " 'conversation': 1,\n",
              " 'likely': 1,\n",
              " 'usage': 1,\n",
              " 'understanding': 2,\n",
              " 'correct': 1,\n",
              " 'within': 1,\n",
              " 'rather': 1,\n",
              " 'broad': 1,\n",
              " 'definitions': 1,\n",
              " 'example': 4,\n",
              " 'may': 2,\n",
              " 'think': 1,\n",
              " 'something': 3,\n",
              " 'carries': 1,\n",
              " 'information': 1,\n",
              " 'usually': 1,\n",
              " 'pattern': 2,\n",
              " 'variations': 1,\n",
              " 'physical': 2,\n",
              " 'quantity': 1,\n",
              " 'manipulated': 1,\n",
              " 'stored': 2,\n",
              " 'transmitted': 1,\n",
              " 'processes': 1,\n",
              " 'examples': 1,\n",
              " 'include': 1,\n",
              " 'speech': 2,\n",
              " 'image': 1,\n",
              " 'biomedical': 1,\n",
              " 'radar': 1,\n",
              " 'seismic': 1,\n",
              " 'name': 1,\n",
              " 'important': 1,\n",
              " 'point': 1,\n",
              " 'take': 1,\n",
              " 'many': 1,\n",
              " 'equivalent': 1,\n",
              " 'forms': 1,\n",
              " 'representations': 2,\n",
              " 'produced': 1,\n",
              " 'acoustic': 2,\n",
              " 'converted': 1,\n",
              " 'electrical': 1,\n",
              " 'microphone': 1,\n",
              " 'magnetization': 1,\n",
              " 'magnetic': 1,\n",
              " 'tape': 1,\n",
              " 'even': 1,\n",
              " 'string': 1,\n",
              " 'numbers': 3,\n",
              " 'recording': 2,\n",
              " 'term': 1,\n",
              " 'somewhat': 1,\n",
              " 'ambiguous': 1,\n",
              " 'subject': 1,\n",
              " 'interpretation': 1,\n",
              " 'refer': 1,\n",
              " 'large': 1,\n",
              " 'organization': 1,\n",
              " 'administers': 1,\n",
              " 'implements': 1,\n",
              " 'process': 1,\n",
              " 'social': 1,\n",
              " 'security': 1,\n",
              " 'airline': 1,\n",
              " 'transportation': 1,\n",
              " 'system.': 1,\n",
              " 'however': 1,\n",
              " 'interested': 1,\n",
              " 'much': 1,\n",
              " 'narrower': 1,\n",
              " 'definition': 1,\n",
              " 'closely': 1,\n",
              " 'linked': 1,\n",
              " 'specifically': 2,\n",
              " 'purposes': 1,\n",
              " 'manipulate': 1,\n",
              " 'change': 1,\n",
              " 'record': 1,\n",
              " 'transmit': 1,\n",
              " 'compact': 1,\n",
              " 'disk': 2,\n",
              " 'cd': 2,\n",
              " 'stores': 1,\n",
              " 'represents': 1,\n",
              " 'music': 1,\n",
              " 'sequence': 1,\n",
              " 'player': 1,\n",
              " 'converting': 1,\n",
              " 'i.e.': 1,\n",
              " 'numerical': 1,\n",
              " 'representation': 2,\n",
              " 'hear': 1,\n",
              " 'general': 1,\n",
              " 'operate': 1,\n",
              " 'produce': 1,\n",
              " 'new': 2,\n",
              " 'goal': 1,\n",
              " 'develop': 1,\n",
              " 'framework': 1,\n",
              " 'wherein': 1,\n",
              " 'possible': 1,\n",
              " 'make': 1,\n",
              " 'precise': 1,\n",
              " 'statements': 1,\n",
              " 'want': 2,\n",
              " 'show': 2,\n",
              " 'mathematics': 1,\n",
              " 'appropriate': 1,\n",
              " 'language': 1,\n",
              " 'describing': 1,\n",
              " 'also': 1,\n",
              " 'mathematical': 1,\n",
              " 'equations': 1,\n",
              " 'allows': 1,\n",
              " 'us': 1,\n",
              " 'understand': 1,\n",
              " 'interact': 1,\n",
              " 'design': 1,\n",
              " 'implement': 1,\n",
              " 'achieve': 1,\n",
              " 'prescribed': 1,\n",
              " 'purpose': 1}"
            ]
          },
          "metadata": {},
          "execution_count": 14
        }
      ]
    },
    {
      "cell_type": "code",
      "source": [
        "def _calculate_sentence_scores(sentences, frequency_table) -> dict:   \n",
        "\n",
        "    # Algorithm for scoring a sentence by its words\n",
        "    sentence_weight = dict()\n",
        "\n",
        "    for sentence in sentences:\n",
        "        sentence_wordcount = (len(word_tokenize(sentence)))\n",
        "        sentence_wordcount_without_stop_words = 0\n",
        "        for word_weight in frequency_table:\n",
        "            if word_weight in sentence.lower():\n",
        "                sentence_wordcount_without_stop_words += 1\n",
        "                if sentence[:7] in sentence_weight:\n",
        "                    sentence_weight[sentence[:7]] += frequency_table[word_weight]\n",
        "                else:\n",
        "                    sentence_weight[sentence[:7]] = frequency_table[word_weight]\n",
        "\n",
        "        sentence_weight[sentence[:7]] = sentence_weight[sentence[:7]] / sentence_wordcount_without_stop_words\n",
        "      \n",
        "    return sentence_weight"
      ],
      "metadata": {
        "id": "zFULqpBqT6dW"
      },
      "execution_count": 15,
      "outputs": []
    },
    {
      "cell_type": "code",
      "source": [
        "def _calculate_threshold(sentence_weight, length) -> int:\n",
        "  \n",
        "    weight = list(sentence_weight.values())\n",
        "    if len(weight) <= length:\n",
        "      #min\n",
        "      th = np.min(weight)\n",
        "    else:\n",
        "      weight.sort(reverse=True)\n",
        "      th = weight[length-1]\n",
        "\n",
        "    return th"
      ],
      "metadata": {
        "id": "_y4BlZSmDobK"
      },
      "execution_count": 16,
      "outputs": []
    },
    {
      "cell_type": "code",
      "source": [
        "weights = _calculate_sentence_scores(sentences, frequency_table)\n",
        "weights"
      ],
      "metadata": {
        "colab": {
          "base_uri": "https://localhost:8080/"
        },
        "id": "kl7QZ20dTcFR",
        "outputId": "6851290b-a2e5-4d36-d427-31a8fb756f7e"
      },
      "execution_count": 17,
      "outputs": [
        {
          "output_type": "execute_result",
          "data": {
            "text/plain": [
              "{' CHAPTE': 5.5,\n",
              " 'In this': 2.1923076923076925,\n",
              " 'It is l': 1.2142857142857142,\n",
              " 'For exa': 2.5251177394034534,\n",
              " 'Usually': 1.3571428571428572,\n",
              " 'Example': 3.066666666666667,\n",
              " 'An impo': 3.5,\n",
              " 'The ter': 1.75,\n",
              " 'More sp': 3.8181818181818183,\n",
              " 'A CD pl': 2.4285714285714284,\n",
              " 'In gene': 4.9,\n",
              " 'Our goa': 3.8461538461538463,\n",
              " 'Specifi': 3.857142857142857,\n",
              " 'We also': 3.0526315789473686}"
            ]
          },
          "metadata": {},
          "execution_count": 17
        }
      ]
    },
    {
      "cell_type": "code",
      "source": [
        "threshold = _calculate_threshold(weights, 4)\n",
        "threshold"
      ],
      "metadata": {
        "colab": {
          "base_uri": "https://localhost:8080/"
        },
        "id": "2bpPvCSKUoMb",
        "outputId": "188f703e-1a45-4012-8313-aff4d3553ef4"
      },
      "execution_count": 18,
      "outputs": [
        {
          "output_type": "execute_result",
          "data": {
            "text/plain": [
              "3.8461538461538463"
            ]
          },
          "metadata": {},
          "execution_count": 18
        }
      ]
    },
    {
      "cell_type": "code",
      "source": [
        "def _get_article_summary(sentences, sentence_weight, threshold):\n",
        "    sentence_counter = 0\n",
        "    article_summary = ''\n",
        "\n",
        "    for sentence in sentences:\n",
        "        if sentence[:7] in sentence_weight and sentence_weight[sentence[:7]] >= (threshold):\n",
        "            article_summary += \" \" + sentence\n",
        "            sentence_counter += 1\n",
        "\n",
        "    return article_summary"
      ],
      "metadata": {
        "id": "IcT9egbyU0bg"
      },
      "execution_count": 19,
      "outputs": []
    },
    {
      "cell_type": "code",
      "source": [
        "_get_article_summary(sentences, weights, threshold)"
      ],
      "metadata": {
        "colab": {
          "base_uri": "https://localhost:8080/",
          "height": 69
        },
        "id": "Z6BcUs-bU2GD",
        "outputId": "bebd3cb2-153e-42a1-fce7-e50f37da5423"
      },
      "execution_count": 20,
      "outputs": [
        {
          "output_type": "execute_result",
          "data": {
            "text/plain": [
              "'  CHAPTER 1 Introduction This is a book about signals and systems. In general, systems operate on signals to produce new signals or new signal representations. Our goal in this text is to develop a framework wherein it is possible to make precise statements about both signals and systems. Specifically, we want to show that mathematics is an appropriate language for describing and understanding signals and systems.'"
            ],
            "application/vnd.google.colaboratory.intrinsic+json": {
              "type": "string"
            }
          },
          "metadata": {},
          "execution_count": 20
        }
      ]
    },
    {
      "cell_type": "markdown",
      "source": [
        "## **Apply** for all sub_chapters"
      ],
      "metadata": {
        "id": "NoF-jH7rYOTn"
      }
    },
    {
      "cell_type": "code",
      "source": [
        "summary = {}\n",
        "length_of_summary = []\n",
        "for s in sections:\n",
        "  section_string = to_string(s)\n",
        "  section_sentences = sent_tokenize(section_string)\n",
        "  section_frequency_table = create_dictionary_table(section_string)\n",
        "  secction_sentence_weights = _calculate_sentence_scores(section_sentences, section_frequency_table)\n",
        "  section_threshold = _calculate_threshold(secction_sentence_weights, 4)\n",
        "  summary[str(s)] = \"Chapter \"+ str(s) + \":\"+_get_article_summary(section_sentences, secction_sentence_weights, section_threshold)\n",
        "  sum_len = len(sent_tokenize(summary[str(s)]))\n",
        "  length_of_summary.append(len(sent_tokenize(summary[str(s)])))\n",
        "  # if sum_len > 7:\n",
        "  #   section_threshold = _calculate_threshold(secction_sentence_weights, 1)\n",
        "  #   summary[str(s)] = _get_article_summary(section_sentences, secction_sentence_weights, section_threshold)\n",
        "  #   sum_len = len(sent_tokenize(summary[str(s)]))\n",
        "  if len(sent_tokenize(summary[str(s)])) == 0:\n",
        "    print(\"NULL\")\n",
        "\n",
        "summary"
      ],
      "metadata": {
        "colab": {
          "base_uri": "https://localhost:8080/"
        },
        "id": "O9UV613zYcQG",
        "outputId": "74008e8d-a871-4e00-f993-25489412ee6a"
      },
      "execution_count": 21,
      "outputs": [
        {
          "output_type": "execute_result",
          "data": {
            "text/plain": [
              "{'-2.7': 'Chapter -2.7:  Summary and Links This appendix has presented a brief review of complex numbers and their visualization as vectors in the two-dimensional complex plane. The labs in Chapter 2 deal with various aspects of complex numbers, and also introduce MATLAB. In Lab #2, we also have included a number of MATLAB functions for plotting vectors from complex numbers ( zvect, zcat) and for changing between Cartesian and polar forms ( zprint). Lab: #2, Adding Sinusoids via Complex Amplitudes The Complex Numbers via MATLAB demo is a quick reference to these routines.',\n",
              " '-2.6': 'Chapter -2.6: Graphical display of the th roots of unity ( ). These are the solutions of. Notice that there are only distinct roots. Graphical display of the th roots of unity ( ). These are the solutions of. Notice that there are only distinct roots. Plot all the solutions.',\n",
              " '-2.5': 'Chapter -2.5: Draw the vector from the origin to the head of. This vector is the sum. Complex multiplication becomes a rotation when. Complex multiplication becomes a rotation when. For the vectors shown, and.',\n",
              " '-2.4': 'Chapter -2.4: In rectangular form, all of these rules are relatively straightforward. The conjugate in polar form requires only a change of sign of the angle. An intermediate conversion to rectangular form must be done. Here is the recipe for adding complex numbers in polar form.',\n",
              " '-2.3': 'Chapter -2.3: A proof of Eulers formula based on power series is outlined in Problem 2.4 of Chapter ※. EXAMPLE:\\xa0 Eulers Formula Here are some examples: EXAMPLE:\\xa0 Degrees to Radians Referring back to Fig.~※, the three complex numbers can be rewritten as: Numbers like rad are difficult to visualize, because we are more used to thinking of angles in degrees. This is a good habit to adopt, because it simplifies the conversion between degrees and radians. If is given in radians, the conversion is Inverse Euler Formulas Eulers formula can be solved separately for the cosine and sine parts.',\n",
              " '-2.2': 'Chapter -2.2: The two basic types are polar form and rectangular form. Rectangular Form In rectangular form, all of the following notations define the same complex number. Rectangular form is also referred to as Cartesian form. Conversion: Rectangular and Polar Both the polar and rectangular forms are commonly used to represent complex numbers. At this point, the reader should convert to polar form the five complex numbers shown in Fig.~※.',\n",
              " '-2.1': 'Chapter -2.1:  Introduction A complex number system is an extension of the real number system. Complex numbers are necessary to solve equations such as The symbol is introduced to stand for, so the previous equation has the two solutions. More generally, complex numbers are needed to solve for the two roots of a quadratic equation which, according to the quadratic formula, has the two solutions: Whenever the discriminant is negative, the solution must be expressed as a complex number. For example, the roots of are, because',\n",
              " '-2.0': 'Chapter -2.0:  CHAPTER -2 Complex Numbers  The basic manipulations of complex numbers are reviewed in this appendix. The algebraic rules for combining complex numbers are reviewed, and then a geometric viewpoint is taken to visualize these operations by drawing vector diagrams. The algebraic rules for are, in effect, the basic rules of vector operations. Skill in algebraic manipulations is important, but the use of complex numbers in representation is more important in the long run. Complex numbers in electrical engineering are used as a convenience because when they stand for the sinusoidal signals they can simplify manipulations of the signals.',\n",
              " '-1.7': 'Chapter -1.7: For example, type angle type conv type trapz Copying the style of other (good) programmers is always an efficient way to improve your own knowledge of a computer language. The primary one is the use of for loops to perform simple operations over an entire matrix or vector. For example, if the operation is summing all the elements in a matrix, the difference between calling sum and writing a loop that looks like FORTRAN or C code can be astounding; the loop is unbelievably slow owing to the interpreted nature of MATLAB. Consider the three methods for matrix summation in Fig.~※. Three ways to add all the elements of a matrix. For example, a greater than test applied to a matrix returns a matrix of ones and zeros. For example, find( x > Limit ) will return the list of indices where the vector is greater than the Limit value.',\n",
              " '-1.6': 'Chapter -1.6:  Writing a MATLAB Function You can write your own functions and add them to the MATLAB environment. Illustration of a MATLAB function called clip.m. The name of the function should match the name of the M-file; if there is a conflict, it is the name of the M-file on the disk that is known to the MATLAB command environment. For clip the last line of the function assigns the clipped vector to y, so that the clipped vector is returned.',\n",
              " '-1.5': 'Chapter -1.5:  MATLAB Scripts Any expression that can be entered at the MATLAB prompt can also be stored in a text file and executed as a script. The file extension must be.m, and the script is executed in MATLAB simply by typing the filename (without the extension). These programs are usually called M-files. Here is an example:  tt = 0:0.3:4; xx = sin(0.7*pi*tt); subplot(2,1,1) plot( tt, xx ) title(Example of plot( tt, xx)) subplot(2,1,2) stem( tt, xx ) title(Example of stem( tt, xx))  If these commands are saved in a file named plotstem.m, then typing plotstem at the command prompt will run the file, and all eight commands will be executed as if they had been typed in at the command prompt.',\n",
              " '-1.4': 'Chapter -1.4: Here is the MATLAB equivalent: where x is a vector containing the elements. This example illustrates MATLAB in its most efficient form, where individual functions are combined to get the output. MATLAB Built-in Functions Many MATLAB functions operate on arrays just as easily as they operate on scalars. Descriptions and examples for each of these program constructs can be viewed by using the MATLAB help command.',\n",
              " '-1.3': 'Chapter -1.3: Figure Windows Whenever MATLAB makes a plot, it writes the graphics to a figure window. Any plot command executed in the command window will direct its graphical output to the active window. is also possible with the figure command, which does initialization of the plot window. Multiple Plots Multiple plots per window can be done with the subplot function.',\n",
              " '-1.2': 'Chapter -1.2: This is very useful when dealing with large matrices. A scalar is a matrix with only one element; its size is. A vector is a matrix that has only one row or one column. This is an example of reshaping the matrix. Each element in the product matrix is calculated with an inner product.',\n",
              " '-1.1': 'Chapter -1.1:  MATLAB Help MATLAB provides an on-line help system accessible by using the help command. For example, to get information about the function filter, enter the following at the command prompt:  >> help filter  The command prompt is indicated by >> in the command window. The help command will return text information in the command window. The help system now has a Web-browser interface, so the commands helpdesk, helpwin and doc bring up this interface. When unsure about a command, use help.',\n",
              " '-1.0': 'Chapter -1.0:  CHAPTER -1 Programming in MATLAB MATLAB will be used extensively in the laboratory exercises on the CD-ROM and in Appendix ※. This appendix provides an overview of MATLAB and some of its capabilities. MATLAB has an extensive on-line help system, which can be used to answer any questions not answered in this brief presentation. MATLAB (short for Matrix Laboratory) is an environment for numerical analysis and computing. The language has also been extended by means of toolboxes containing additional functions for MATLAB. This appendix gives a brief overview of MATLAB for the purpose of programming.',\n",
              " '1.0': 'Chapter 1.0:  CHAPTER 1 Introduction This is a book about signals and systems. In general, systems operate on signals to produce new signals or new signal representations. Our goal in this text is to develop a framework wherein it is possible to make precise statements about both signals and systems. Specifically, we want to show that mathematics is an appropriate language for describing and understanding signals and systems.',\n",
              " '1.1': 'Chapter 1.1: Many signals are naturally thought of as a pattern of variations in time. This signal can be represented as a function of a single (time) variable,. Many, if not most, signals originate as continuous-time signals. Example of a signal that can be represented by a function of two spatial variables.',\n",
              " '1.2': 'Chapter 1.2: is operated on by the system (symbolized by the operator ) to produce the output. Consider a system such that the output signal is the square of the input signal. On the other hand, if the input and output of the system are both discrete-time signals (sequences of numbers) related by then the system would be a discrete-time system. Output of a squarer system for the speech signal input of Fig.~※.',\n",
              " '1.3': 'Chapter 1.3: This block diagram breaks the operation down into four subsystems. For the high-accuracy A-to-D converters used in precision audio systems, the difference between an A-to-D converter and our idealized C-to-D converter is slight, but the distinction is very important. Simplified block diagram for recording and playback of an audio CD. Systems like the CD audio system are all around us.',\n",
              " '1.4': 'Chapter 1.4:  The Next Step The CD audio system is a good example of a discrete-time system. Buried inside the blocks of Fig.~※ are many discrete-time subsystems and signals. While we do not promise to explain all the details of CD players or any other complex system, we do hope to establish the foundations for the understanding of discrete- and continuous-time signals and systems so that this knowledge can be applied to understanding components of more complicated systems. Subsequent chapters will introduce the concept of the frequency spectrum of a signal and the concept of filtering with a linear time-invariant system.',\n",
              " '2.0': 'Chapter 2.0: Collectively, such signals are called sinusoidal signals or, more concisely, sinusoids. The most general mathematical formula for a cosine signal is where denotes the cosine function that is familiar from the study of trigonometry. From it follows that is a mathematical function in which the angle of the cosine function is, in turn, a function of the variable. The parameters,, and are fixed numbers for a particular cosine signal.',\n",
              " '2.1': 'Chapter 2.1: This system is a tuning fork, an example of which is shown in Fig.~※. You should hear a distinct “hum” at the frequency designated for the tuning fork. The microphone  Picture of a tuning fork and a microphone. A typical plot is shown in Fig.~※ for an A–440 tuning fork.',\n",
              " '2.2': 'Chapter 2.2: The trigonometric functions sine and cosine take an angle as their argument. Basic properties of the sine and cosine functions. Both functions oscillate between and, and they repeat the same pattern periodically with period. Sine and cosine functions plotted versus angle. Both functions have a period of.',\n",
              " '2.3': 'Chapter 2.3: The result is: so we define the phase shift to be in. Derive the equations for the shifted signal. In summary, time shift is essentially a redefinition of the time origin of the signal. Let denote a cosine signal with zero phase shift.',\n",
              " '2.4': 'Chapter 2.4: For example, if we wish to plot a function such as which is shown in Fig.~※, we must evaluate at a discrete set of times,, where is an integer. If we do so, we obtain the sequence of samples where is called the sample spacing or sampling period, and is an integer. For example, the MATLAB statements n = -7:5; Ts = 0.005; tn = n*Ts; xn = 20*cos(80*pi*tn - 0.4*pi); plot(tn,xn) would create a row vector tn of 13 numbers between and spaced by the sampling period 0.005, and a row vector xn of samples of. However, we learn from this example that as the sampling period decreases, more samples are taken across one cycle of the periodic cosine signal. When, there are 5 samples per cycle; when there are 10 samples per cycle; and when, there are 250 samples per cycle. The choice of also depends on the frequency of the cosine signal, because it is the number of samples per cycle that matters in plotting. For example, if the frequency of the cosine signal were 2000 Hz instead of 40 Hz, then a sample spacing of would yield only 5 samples per cycle.',\n",
              " '2.5': 'Chapter 2.5: In it is clear that the real part of the complex exponential signal is a real cosine signal as defined in, and that its imaginary part is a real sine signal. Geometric view of complex multiplication. The complex number, which is aptly called the complex amplitude, is a polar representation created from the amplitude and the phase shift of the complex exponential signal. The complex amplitude is also called a phasor. The complex exponential signal defined in can also be written as where At a given instant in time,, the value of the complex exponential signal,, is a complex number whose magnitude is and whose argument is. Thus, another name for the complex exponential signal is rotating phasor. The complex amplitude of the positive frequency complex exponential signal is, and the complex amplitude of the negative frequency complex exponential is.',\n",
              " '2.6': 'Chapter 2.6: This is the sum. The phasor addition of the two signals is computed in four steps. Add the phasors of the individual signals to get. Two sinusoids and their sum,.',\n",
              " '2.7': 'Chapter 2.7: (a) Tuning fork. From the derivative properties of sine and cosine functions, we are motivated to try as a solution the function where the parameter is a constant that must be determined. Of two tuning forks having the same stiffness, the heavier one will produce a lower frequency. Demo: Tuning Fork General Solution to the Differential Equation There are many possible solutions to the tuning-fork differential equation. From this we can conclude that any scaled or time-shifted sinusoid with the correct frequency will satisfy the differential equation that describes the motion of the tuning forks tine.',\n",
              " '2.8': 'Chapter 2.8: We have seen by both theory and observation that a tuning fork generates a signal that can be represented mathematically as a sinusoidal signal. The actual waveform produced by a tuning fork is probably not exactly sinusoidal. Indeed, it is true that almost any signal can be represented as a sum of sinusoidal signals. A short segment of an orchestra music signal.',\n",
              " '2.9': 'Chapter 2.9:  Summary and Links We have introduced sinusoidal signals in this chapter. The value of the mathematical representation of a signal is twofold. Lab: #1 Introduction to MATLAB In connection with this chapter, two laboratories are found on the CDROM. Appendix ※ is also available for a quick overview of essential ideas about MATLAB. Labs #2a and #2b deal with sinusoids and phasor addition. Copies of the lab write-ups are also found on the CD-ROM.',\n",
              " '3.0': 'Chapter 3.0:  CHAPTER 3 Spectrum Representation  This chapter introduces the concept of the spectrum, a compact representation of the frequency content of a signal that is composed of sinusoids. In Chapter ※, we learned about the properties of sinusoidal waveforms of the form where } is a phasor, and we showed how phasors can simplify the addition of sinusoids of the same frequency. We will see that it is useful to show this information in a graphical representation. This visual form allows us to see interrelationships among the different frequency components and their relative amplitudes quickly and easily.',\n",
              " '3.1': 'Chapter 3.1: Spectrum plot for the signal. Units of frequency are Hz. The chirp signal is. If is constant, the frequency is zero.',\n",
              " '3.11': 'Chapter 3.11: Finally, we ended with a discussion of how the spectrum can vary with time. Among the laboratory projects on the CD-ROM are three devoted to different aspects of the spectrum. The second (Lab #4) requires students to develop a music synthesis program to play a piece such as Bachs “Jesu, Joy of Mans Desiring.” This synthesis must be done with sinusoids, but can be refined with extras such as a tapered amplitude envelope. Finally, Lab #5 deals with beat notes, chirp signals, and spectrograms. The second part of this lab involves a music synthesis method based on frequency modulation. Write-ups of the labs can be found on the CD-ROM.',\n",
              " '3.2': 'Chapter 3.2: Beat note with Hz and Hz. The cosine wave in is called the carrier signal, and its frequency is called the carrier frequency. AM signal Hz and Hz. AM signal Hz and Hz. Derive the spectrum of and plot it as a function of frequency.',\n",
              " '3.3': 'Chapter 3.3: For example, the signal has a period of sec., but its fundamental period is sec. Sum of all five terms in Table~※. The plot consists of three lines, each one containing 2 sec of the signal. The plot of in Fig.~※ shows that is not periodic. Sum of cosine waves of harmonic frequencies. The fundamental frequency of is 10 Hz. Sum of cosine waves of harmonic frequencies. The fundamental frequency of is 10 Hz.',\n",
              " '3.4': 'Chapter 3.4: The complex exponential in has a frequency equal to Hz, so all the frequencies are integer multiples of the fundamental frequency Hz. Fourier Series: Analysis How do we derive the coefficients for the harmonic sum, i.e., how do we go from to ? The answer is that we use the Fourier series integral to perform Fourier analysis. The complex amplitudes for any periodic signal can be calculated with the Fourier integral where is the fundamental period of. The Fourier integral is convenient if we have a formula that defines over one period. Fourier Series Derivation In this section, we present a derivation of the Fourier Series integral formula.',\n",
              " '3.5': 'Chapter 3.5: In order to illustrate this general connection between the Fourier Series and the spectrum, we use the “sine-cubed” signal. Spectrum of the “sine-cubed” signal derived from its Fourier Series coefficients. The complex amplitude of each spectrum line is equal to the Fourier Series coefficient for that frequency,. Use the Fourier integral to determine all the Fourier Series coefficients of the “sine-cubed” signal.',\n",
              " '3.6': 'Chapter 3.6: Therefore, we must evaluate separately using The formula for when has a numerator that is either 0 (for even) or 2 (for odd), because alternates between and. Therefore, the final answer for the Fourier series coefficients of the square wave has three cases: Notice that the formula for does not depend on the period,, but this is not usually the case. Spectrum for a Square Wave Figure~※ shows the spectrum for the 50 duty cycle square wave analyzed in when the fundamental frequency is 25 Hz. Spectrum of a square wave derived from its Fourier Series coefficients. Periodic triangle wave. Unlike the square wave, the triangle wave is a continuous signal. Therefore, it is easier to approximate the triangle wave with a finite Fourier sum.',\n",
              " '3.7': 'Chapter 3.7:  Parsevals Theorem One reason that the Fourier Series is so useful is that there is an equivalence between the sum of the squares of the Fourier coefficients and the signal power. The average power of the periodic signal is the total energy of one period of divided by the duration of the period. The average power is a convenient measure of the size (or strength) of the signal. EXAMPLE Average Power in a Sinusoid. For the case where, the average power integral  can be evaluated directly.',\n",
              " '3.8': 'Chapter 3.8:  The Nature of the Fourier Series Approximation One consequence of Parsevals Theorem is that we can measure the approximation error when the Fourier Series expansion is truncated to the range. As shown in Fig.~※, Parsevals Theorem guarantees that the error power will get small whenever the signal has finite average power. If we define to be the signal formed by a finite sum of complex exponentials: then the error signal is. Thus the power in the overshoot is decreasing — in other words, there is convergence according to the squared error measure, which is confirmed in Fig.~※.',\n",
              " '3.9': 'Chapter 3.9: This leads us to the concept of a time–frequency spectrum or spectrogram. The notation itself is not completely obvious, but the horizontal “axis” in Fig.~※ is time, while the vertical axis is frequency. Sheet music notation is a time–frequency diagram. On the other hand, excellent numerical routines are now available for time–frequency analysis.',\n",
              " '4.0': 'Chapter 4.0:  CHAPTER 4 Sampling and Aliasing This chapter is concerned with the conversion of signals between the analog (continuous-time) and digital (discrete-time) domains. The primary objective of our presentation is an understanding of the Sampling Theorem, which states that when the sampling rate is greater than twice the highest frequency contained in the spectrum of the analog signal, the original signal can be reconstructed exactly from the samples. The process of converting from digital back to analog is called reconstruction. The reconstruction process is basically one of interpolation because we must “fill in” the missing signal values between the sample times by constructing a smooth curve through the discrete-time sample values.',\n",
              " '4.1': 'Chapter 4.1: It is also common to refer to such signals as analog signals because both the signal amplitude and the time variable are assumed to be real (not discrete) numbers. It is a normalized version of the continuous-time radian frequency with respect to the sampling frequency. It is an alias. The frequency of is, while the frequency of is. There are many more frequency aliases as the following problem suggests. Show that is an alias of. There are other aliases. Show that the signal is an alias of the signal.',\n",
              " '4.2': 'Chapter 4.2: These are what we have called the principal alias frequencies, and in Fig.~※ these are the frequency components that fall inside the dashed box shown in the bottom panel, i.e.,. These are at, so we calculate the output spectrum lines at Hz. The analog frequency of the reconstructed output will be Hz. The output frequency will be equal to the input frequency. Now consider the input frequency increasing from to.',\n",
              " '4.3': 'Chapter 4.3: Six successive positions of the spot for a very high flashing rate. This is aliasing because the spot makes exactly one revolution between flashes and therefore is always at the same position when illuminated by the strobe. This is not the only flash rate for which the spot will appear to stand still. Six successive positions of the spot for a flashing rate that aliases the spot motion. The frequency of the motor rotation is constant, as is the radius. The frequency is the rotation rate of the motor in rpm. What is the maximum flashing rate for this case?',\n",
              " '4.4': 'Chapter 4.4: Interpolation with Pulses How does the D-to-C converter work? Four different pulses for D-to-C conversion. D-to-C conversion using a square pulse. Thus, using a square pulse in is D-to-C conversion, but not ideal D-to-C conversion. D-to-C conversion using a triangular pulse, or linear interpolation. D-to-C conversion using a cubic-spline pulse. D-to-C conversion using a square pulse. D-to-C conversion using a cubic-spline pulse at samples/sec.',\n",
              " '4.5': 'Chapter 4.5:  The Sampling Theorem This chapter has discussed the issues that arise in sampling continuous-time signals. Sampling and reconstruction system. Such signals could be represented as where each of the individual signals is of the form and it is assumed that the frequencies are ordered so that and. If we sample the signal represented by and, we obtain where with.',\n",
              " '4.6': 'Chapter 4.6:  Summary and Links This chapter introduced the concept of sampling and the companion operation of reconstruction. With sampling, the possibility of aliasing always exists, and we have created the strobe demo to illustrate that concept in a direct and intuitive way. Synthetic strobe demos produced as MATLAB movies. Reconstruction movies that show the interpolation process for different pulse shapes and different sampling rates. A sampling and aliasing MATLAB GUI called con2dis, shown in Fig.~※. Aliasing and folding movies that show how the spectrum changes for different sampling rates.',\n",
              " '5.0': 'Chapter 5.0:  CHAPTER 5 FIR Filters Up to this point, we have focused our attention on signals and their mathematical representations. In this chapter, we begin to emphasize systems or filters. In this chapter, we introduce the class of FIR (finite impulse response) systems, or, as we will often refer to them, FIR filters. Our purpose in this chapter is to introduce the basic ideas of discrete-time systems and to provide a starting point for further study. The systems that we introduce in this chapter are the simplest to analyze.',\n",
              " '5.1': 'Chapter 5.1:  Discrete-Time Systems A discrete-time system is a computational process for transforming one sequence, called the input signal, into another sequence called the output signal. In the case of sampling, the input signal is a continuous-time signal and the output is a discrete-time signal, while for reconstruction the opposite is true. Now we want to begin to study discrete-time systems where the input and output are discrete-time signals. Since a discrete-time signal is a sequence of numbers, such operators can be described by giving a formula for computing the values of the output sequence from the values of the input sequence.',\n",
              " '5.2': 'Chapter 5.2: Therefore, one might take an average of the stock price over several days before looking for any trend. it is smoother than the input sequence. Output of running average filter,. Therefore, a filter that uses future values of the input is called noncausal. Therefore, the output does not change from zero before the input changes from zero. What is the support of the output for this input?',\n",
              " '5.3': 'Chapter 5.3: There is another shaded interval of length samples at the end (after sample 40), where the filter window “runs off of” the input sequence. Unit Impulse Sequence The unit impulse is perhaps the simplest sequence because it has only one nonzero value, which occurs at. Shifted impulse sequence,. Unit Impulse Response Sequence When the input to the FIR filter is a unit impulse sequence,, the output is, by definition, the unit impulse response, which we will denote by. In the tabulated form, the impulse response is  0 1 2 3 0 1 0 0 0 0 0 0 0 0 0 0 In other words, the impulse response of the FIR filter is simply the sequence of difference equation coefficients.',\n",
              " '5.4': 'Chapter 5.4: Block-diagram structure for the third-order FIR filter. Determine the difference equation for the block diagram of Fig.~※. Other Block Diagrams Many block diagrams will implement the same FIR filter, in the sense that the external behavior from input to output will be the same. Transposed form block diagram structure for the third-order FIR filter.',\n",
              " '5.5': 'Chapter 5.5: Consider the example of the square-law system defined by. The output in Fig.~※ for this system is while Thus,, and the square-law system has been shown not to be linear. Systems that are not linear are called nonlinear systems. The FIR Case FIR Systems described by satisfy both the linearity and time invariance conditions. The FIR filter is an example of an LTI system. Not all LTI systems are described by, but all systems described by are LTI systems.',\n",
              " '5.6': 'Chapter 5.6: Thus, is a representation of the sequence as a linear combination of scaled, shifted impulses. With this modification we obtain solid blue]{ Convolution Sum Formula} }  y[n] = x[ h[n- } This expression represents the convolution operation in the most general sense, so we have proved that all LTI systems can be represented by a convolution sum. By making the substitution in, show that can also be expressed in the same form as, Some Properties of LTI Systems The properties of convolution are the properties of LTI systems. Thus, it is of interest to explore these properties and relate them to properties of LTI systems. This proves that convolution is an associative operation.',\n",
              " '5.7': 'Chapter 5.7: A cascade of two LTI systems. Therefore, the overall impulse response of Fig.~※ is. Since convolution is commutative, the two cascade systems have the same impulse response which is also the impulse response of the equivalent system. Again, since the overall impulse response is the same for each of the three systems in Figs.~※ and ※, the output is the same for all three systems for the same input.',\n",
              " '5.8': 'Chapter 5.8: The smoother curve in Fig.~※ is the output of a 51-point causal running averager; i.e., where is the impulse response of the causal 51-point running averager. It would be better use the noncausal centralized running averager where is the impulse response of the centralized running averager. Determine the impulse response of the 51-point causal running averager and determine the impulse response for the 51-point centralized running averager. The cascade representation of the centralized running averager is depicted in Fig.~※.',\n",
              " '5.9': 'Chapter 5.9: Among the laboratory projects on the CD-ROM, there is one (Lab~#7) that deals with discrete convolution and the effects of sampling. Lab~#7 also requires the use of two MATLAB GUIs, one for sampling, CON2DIS, the other for discrete convolution, DCONVDEMO. Demo: CON2DIS: Sampling and Aliasing Demo: DCONVDEMO: Convolution The CD-ROM also contains three demonstrations of FIR filtering; the DCONVDEMO GUI, and also individual demonstrations of the properties of linearity and time invariance illustrated by using simple FIR filters to process shifted and scaled sinusoids. Note: Hundreds of Solved Problems',\n",
              " '6.0': 'Chapter 6.0:  CHAPTER 6 Frequency Response of FIR Filters Chapter ※ introduced the class of FIR discrete-time systems. We also showed that the impulse response of an FIR system completely defines the system. In this chapter, we introduce the concept of the frequency response of a linear time-invariant FIR filter and show that the frequency response and impulse response are uniquely related. Since almost any discrete-time signal can be represented by a superposition of sinusoids, the frequency response is sufficient therefore to represent the system for almost any signal.',\n",
              " '6.1': 'Chapter 6.1: In other words, describes the response of the LTI system to a complex exponential signal of any frequency. (Generally, we shorten this to frequency response.) The frequency response multiplies the signal, thereby changing the complex amplitude. The effect of the LTI system on the magnitude and phase of the input complex exponential signal is determined completely by the frequency response function.',\n",
              " '6.2': 'Chapter 6.2:  Superposition and the Frequency Response The principle of superposition makes it very easy to find the output of a linear time-invariant system if the input is a sum of complex exponential signals. Because the components of the input signal are all complex exponential signals, it is easy to find their respective outputs if we know the frequency response of the system; we just multiply each component by evaluated at the corresponding frequency, i.e., Note that we have used the fact that a constant signal is a complex exponential with. EXAMPLE:\\xa0 Cosine Input For the FIR filter with coefficients, find the output when the input is The frequency response of the system was determined in Example ※ to be  Note that ; i.e., has conjugate symmetry. That is, each individual complex exponential component is modified by the frequency response evaluated at the frequency of that component. EXAMPLE:\\xa0 Three Sinusoidal Inputs For the FIR filter with coefficients, find the output when the input is The frequency response of the system was determined in Example ※, and is the same as the frequency response in Example~※. Because the frequency-response magnitude (gain) is so small at frequency, the component at this frequency is essentially filtered out of the input signal.',\n",
              " '6.3': 'Chapter 6.3: This region is often called the transient part of the output. That is, This part of the output is generally called the steady-state part. The input and output signals for this example are shown in Fig.~※. (a) Input and (b) corresponding output for FIR filter with coefficients.',\n",
              " '6.4': 'Chapter 6.4:  Properties of the Frequency Response The frequency response function is a complex-valued function of the normalized frequency variable. Relation to Impulse Response and Difference Equation can be calculated directly from the filter coefficients. It is also simple to go from the frequency response to the difference equation or to the impulse response if we express in terms of powers of. Prove that the magnitude is an even function of and the phase is an odd function of for a conjugate-symmetric frequency response.',\n",
              " '6.5': 'Chapter 6.5: Phase response of pure delay system,. Magnitude (a) and phase (b) of system with frequency response. Fig.~※ shows the frequency response of this system, which is a lowpass filter. Input and output of system with frequency response.',\n",
              " '6.6': 'Chapter 6.6: Frequency response of three equivalent cascaded LTI systems. All three systems have the same frequency response so that for the same input. Suppose that two systems are cascaded. Determine the frequency response and the impulse response of the overall cascade system.',\n",
              " '6.7': 'Chapter 6.7: (a) Amplitude and (b) phase functions for frequency response of 11-point running-average filter. It is generally easiest to plot the principal value of the phase function. Input and output of 11-point running averager. Input and output of 11-point running averager. (a)~“Homework plus cosine” image.',\n",
              " '6.8': 'Chapter 6.8: System for doing discrete-time filtering of continuous-time signals. The frequency response of the discrete-time system gives us a quick way to calculate the output in Fig~※. As long as there is no aliasing, the frequency band of the input signal matches the frequency band of the output. The frequency response of this discrete-time system is The magnitude of this frequency response is shown in the top part of Fig.~※. The frequency-response question is easy. If the input to the system is, the corresponding output is.',\n",
              " '6.9': 'Chapter 6.9:  Summary and Links This chapter introduced the concept of the frequency response for the class of FIR filters. The frequency response applies to any linear time-invariant system, as we will see in upcoming chapters. Lab #8 is an experiment with the frequency response of FIR filters. Lab: #8 Frequency Response Two other labs involving FIR filtering are listed under Chapter 7 on the CD-ROM.',\n",
              " '7.1': 'Chapter 7.1: This spectrum plot is a frequency-domain representation that tells us at a glance “how much of each frequency is present in the signal.” In Chapter ※ we extended the spectrum concept from continuous-time signals to discrete-time signals obtained by sampling. In the discrete-time case, the line spectrum is plotted as a function of normalized frequency. In Chapter ※ we developed the frequency response which is the frequency-domain representation of an FIR filter. In this chapter, we take the next step by developing the discrete-Time Fourier transform.',\n",
              " '7.2': 'Chapter 7.2: EXAMPLE:\\xa0 DTFT of an FIR Filter The following FIR filter has a finite-length impulse response signal: Each impulse in is transformed using, and then combined according to the linearity property of the DTFT which gives Uniqueness of the DTFT The DTFT is a unique relationship between and ; in other words, two different signals cannot have the same DTFT. EXAMPLE:\\xa0 DTFT of Complex Exponential? The result of the inverse DTFT is the discrete-time signal where. Riemann sum approximation to the integral of the inverse DTFT. Here, which is the DTFT of.',\n",
              " '7.3': 'Chapter 7.3: We need to compare the DTFT of vis-a-vis the DTFT of. The Frequency-Shift Property Consider a sequence where the DTFT of is. DTFT of a Real Cosine Signal A sinusoid is composed of two complex exponentials, so the frequency shifting property would be applied twice to obtain the DTFT. DTFT of a length-20 sinusoid with amplitude, and frequency. Therefore, the DTFT is called the magnitude-squared spectrum or the energy spectrum of.',\n",
              " '7.4': 'Chapter 7.4: Frequency response of an ideal LPF with its cutoff at,rad/s. Figure~※ shows a plot of for the ideal LPF. Figure~※ shows the frequency response of an 11-point moving average filter. EXAMPLE:\\xa0 Ideal Lowpass Filtering Consider an ideal lowpass filter with frequency response given by and impulse response in. Figure~※ shows an ideal HPF with its cutoff frequency at rad/s. Frequency response of an ideal HPF with cutoff at rad/s. That is, the ideal bandpass filter has frequency response Figure~※ shows an ideal BPF with its cutoff frequencies at and. Frequency response of an ideal BPF with its passband from to rad/s.',\n",
              " '7.5': 'Chapter 7.5: We usually say that the practical FIR filter has an impulse response that is a windowed version of the ideal impulse response. Frequency Response of Practical Filters A causal length- Practical Filter is useful if its frequency response closely approximates the desired frequency response of an ideal filter. Frequency response magnitudes for (a) Length-25 LPF with rectangular window, i.e., truncated sinc. For the two LPFs shown in Fig.~※, we can make an {accurate measurement} of and from the zoomed plots in Fig.~※. For the rectangular window case, a careful measurement gives a passband ripple size of, with the passband edge at. For the Hamming window case, we need the zoomed plot of the passband region to see the ripples, as in Fig.~※(b). Stopband Defined for the Frequency Response When the frequency response (magnitude) of the digital filter is close to zero, we have the stopband region of the filter. For the two lowpass filters in Fig.~※ the measured transition widths are  EXAMPLE:\\xa0 Decrease Transition Width One property of the transition width is that it can be controlled by changing the filter order. For the Hamming window case, the measured transition width for is, and for,.',\n",
              " '7.6': 'Chapter 7.6:  Table of Fourier Transform Properties and Pairs In this chapter, we have derived a number of useful transform pairs, and we have also derived several important properties of Fourier transforms. Table~※ includes the Fourier transform pairs that we have derived in this chapter as well as one transform pairs (the left-sided exponential) that we did not derive. Basic discrete-time Fourier transform pairs. Table of DTFT Pairs Time-Domain: Frequency-Domain: 1 The basic properties of the Fourier transform are what make it convenient to use in designing and analyzing systems, so they are given in Table~※ on p.~ for easy reference. Basic discrete-time Fourier transform properties. Table of DTFT Properties Property Name Time-Domain: Frequency-Domain: Periodic in Linearity Conjugate Symmetry is real Conjugation Time-Reversal Delay Frequency Shift Modulation Convolution Autocorrelation Parsevals Theorem',\n",
              " '7.7': 'Chapter 7.7:  Summary and Links  In this chapter we introduced the discrete-time Fourier transform (DTFT), and developed some of its basic properties for understanding the behavior of linear systems. The DTFT provides a frequency-domain representation for signals as well as systems, and like other Fourier transforms it generalizes the idea of a spectrum for a discrete-time signal. We obtained the DTFT by generalizing the concept of the frequency response, and showed how the inverse transform could be used to obtain the impulse response of various ideal filters. Also it is not surprising that the DTFT plays an important role in filter design for methods based on rectangular and Hamming windowing.',\n",
              " '8.1': 'Chapter 8.1: If a recursive structure is adopted, the two DFTs can be decomposed into four -point DFTs, and those into eight -point DFTs, etc. For two-point DFTs, the computation is trivial: The two outputs of the two-point DFT are the sum and the difference of the inputs. The last stage of computation would require two-point DFTs. Thus, we have where is the number of complex multiplications for a length- DFT, and is the number of complex  Number of operations for radix-2 FFT when is a power of two.',\n",
              " '8.11': 'Chapter 8.11:  Summary and Links In this chapter we introduced the discrete Fourier transform (DFT) and discrete-time Fourier transform (DTFT), and we have shown how these concepts can be useful in computing spectrum representations of signals and for understanding the behavior of linear systems. We showed how the DFT can be derived from the Fourier series integral for continuous-time periodic signals, and we showed how the DFT could be used in a variety of ways. We also showed the relationship between the DFT and the DTFT and illustrated how the DTFT can simplify the solution of problems involving linear time-invariant systems. In subsequent chapters, we will see how the DFT and DTFT are related to yet another transform called the -transform.',\n",
              " '8.2': 'Chapter 8.2: EXAMPLE:\\xa0 Short-Length DFT In order to compute the 4-point DFT of the sequence, we carry out the sum four times, once for each value of. EXAMPLE:\\xa0 Short-Length IDFT The 4-point DFT in Example ※ is the sequence. ※. The peak value is, and it is the only nonzero value in the DFT. Magnitude of DFT coefficients for a 20-pt.',\n",
              " '8.4': 'Chapter 8.4: That is, the sequence can be reconstructed exactly from samples of its DTFT if it is a finite length- sequence. (c) Time-shifted periodic sequence which is also equal to the IDFT of. (c) Time-shifted periodic sequence corresponding to. That is, is an -point sequence and is an -point sequence. The IDFT of is periodic with period as we have already seen. We have shown that the DFT of is.',\n",
              " '8.5': 'Chapter 8.5:  Table of Discrete Fourier Transform Properties and Pairs \\t \\t In this chapter, we have derived a number of useful transform pairs, and we have also derived several important properties of discrete Fourier transforms. Table~※ on p.~ includes the discrete Fourier transform pairs that we have derived in this section. Basic discrete Fourier transform pairs. Some of the properties in Table~※ have not been discussed in this chapter. Basic discrete Fourier transform properties.',\n",
              " '8.6': 'Chapter 8.6: ※. ※. ※. Its period is also, and this is the shortest integer period. Its period is also, and this is the shortest period. view of sampling a periodic signal. } We know from Chapter ※ that the spectrum of a sampled signal is periodic in with a period of. view of sampling a periodic signal. } We know from Chapter ※ that the spectrum of a sampled signal is periodic in with a period of.',\n",
              " '8.7': 'Chapter 8.7: DFT spectrum. interval taken for analysis, (b) DFT magnitude spectrum, (c) DFT phase spectrum. DFT of in. DFT spectrum. interval taken for analysis, (b) DFT magnitude spectrum, (c) DFT phase spectrum. DFT.',\n",
              " '8.8': 'Chapter 8.8: The window is zero for and. DTFT of Windows Windows are used often in spectrum analysis because they have desirable properties in the frequency domain. Figure~※(a) shows plots of the magnitude of the DTFT for two Hann filters with lengths and. DTFT of two Hann windows; length (colored lines), and length (black/gray lines) (a) as computed by 1024-point FFT with zero padding and (b) as plotted with DFT values reordered to place in the middle. Figure~※(b) shows that the DTFT of the Hann window is concentrated near. DTFT of windowed sinusoid via 1000-pt. DFT for (a) rectangular window (peak heights are 20), and (b) Hann window (peak heights are 10.25). DFT for (a) Hann window scaled by, and (b) Hann window scaled by.',\n",
              " '8.9': 'Chapter 8.9: (a) Window length. (b) Window length. The window length is in Fig.~※(a) and in Fig.~※(b). (a) Window length. (b) Window length. (a) Hann window length, time index.',\n",
              " '9.0': 'Chapter 9.0: We will show that FIR convolution is equivalent to polynomial multiplication and that common algebraic operations, such as multiplying, dividing, and factoring polynomials, can be interpreted as combining or decomposing LTI systems. We will use the FIR case to introduce the important concept of “domains of representation” for discrete-time signals and systems. In this text, we consider three domains of representation of signals and systems: the -domain or time domain (the domain of sequences, impulse responses and difference equations), the -domain or frequency domain (the domain of frequency responses and spectrum representations), and the -domain (the domain of -transforms, operators, and poles and zeros). The value of having three different domains of representation is that a difficult analysis in one domain is often much easier in one of the other domains. The -domain exists primarily for its convenience in mathematical analysis and synthesis.',\n",
              " '9.1': 'Chapter 9.1: When we use to determine the -transform of the signal, we transform into a new representation. Thus, we say that represents the signal in the -domain. Similarly, note that is the independent variable of the -transform. Thus, we say that represents the signal in the -domain, and in taking the -transform of a signal, we move from the time domain to the -domain. As a simple, but very important, example of a -transform pair, suppose that.',\n",
              " '9.2': 'Chapter 9.2: It is called the system function of the FIR filter. In Chapter ※, it will be shown that it applies to any LTI system, not just FIR filters. The system function is a function of the complex variable. EXAMPLE:\\xa0 Zeros of System Function Consider the FIR filter The -transform system function is Thus, the zeros of are and.',\n",
              " '9.3': 'Chapter 9.3: In Section ※ we showed that the -transform arises naturally out of the convolution of the impulse-response sequence with a sequence. The Superposition Property of the z-Transform The -transform is a linear transformation. In general, for any finite-length sequence, multiplication of the -transform polynomial by simply subtracts one from each exponent in the polynomial, thereby creating a delay of one. The general result is A General z-Transform Formula So far, we have defined the -transform only for finite-length signals.',\n",
              " '9.4': 'Chapter 9.4: To see how this interpretation comes about, we will consider the system function of the unit-delay system. Unit-Delay Operator The unit-delay system is one of the basic building blocks for the FIR difference equation. Operator Notation Consider a system that calculates the first difference of two successive signal values: The -transform operator that represents the first-difference system is, because we can write the “operator” equation This equation has the following interpretation: The operator “1” leaves unchanged, and the operator delays before subtracting it from. Derive the -transform operator for the first-difference system by working the input through the system. Operator Notation in Block Diagrams The delay operator concept is particularly useful in block diagrams of LTI systems.',\n",
              " '9.5': 'Chapter 9.5: An important example is the cascade connection of two or more LTI systems. Cascade of two LTI systems. The output of the first system is the input to the second system, and the overall output is the output of the second system. Is it possible to find so that the overall system has its output equal to the input?',\n",
              " '9.6': 'Chapter 9.6: The complex -plane including the unit circle, where. The system function determines the difference equation of the filter because the polynomial coefficients of are the coefficients of the difference equation. As we have shown in, the frequency response is obtained by evaluating the system function on the unit circle of the -plane. The system in this case is an 11-point running sum; i.e., it is an FIR filter where the coefficients are all equal to one. The system function for this filter is In Section ※ we will show that the zeros of the system function of this filter are on the unit circle at angles, for. These are the values along the unit circle in the -plane. These are the values along the unit circle in the -plane.',\n",
              " '9.7': 'Chapter 9.7: This explains why we have only nine zeros around the unit circle with the gap at. A Complex Bandpass Filter Now we have a new insight that tells us how to control the frequency response of an FIR filter by placing its zeros on the unit circle. One idea is to view the zero distribution in Fig.~※ as a rotation of the zeros of the running-sum filter in Fig.~※. As is the case with any real-valued filter, the magnitude of the frequency response exhibits a symmetry about.',\n",
              " '9.8': 'Chapter 9.8: An example is shown in Figs.~※, ※, and ※ for a length–24 FIR bandpass filter. The impulse response of the 24-point FIR bandpass filter is given in Fig.~※. Filter coefficients of 24-point FIR bandpass. These groups of four zeros are strategically placed by the design process to form the passband of the filter.',\n",
              " '9.9': 'Chapter 9.9: The Linear-Phase Condition FIR systems that have symmetric filter coefficients (and, therefore, symmetric impulse responses) have frequency responses with linear phase. These properties can be shown to be true in general for linear-phase filters. The conjugate zeros are included because the filter coefficients, which are also the coefficients of, are real. The inverse property is true because the filter coefficients are symmetric.',\n",
              " '10.0': 'Chapter 10.0:  CHAPTER 10 IIR Filters This chapter introduces a new class of LTI systems that have infinite duration impulse responses. For this reason, systems of this class are often called infinite-impulse-response (IIR) systems or also IIR filters. In contrast to FIR filters, IIR digital filters involve previously computed values of the output signal as well as values of the input signal in the computation of the present output. The -transform system functions for IIR filters are rational functions that have both poles and zeros at nonzero locations in the -plane. Just as for the FIR case, we will show that many insights into the important properties of IIR filters can be obtained directly from the pole-zero representation.',\n",
              " '10.1': 'Chapter 10.1: Frequency Response of Second-Order IIR Filter Since the frequency response of a stable system is related to the -transform by we get the following formula for the frequency response of a second-order system: Since contains terms like and, is guaranteed to be a periodic function with a period of. Frequency Response via MATLAB Tedious calculation and plotting of by hand is usually unnecessary if a computer program such as MATLAB is available. For this example, we can look for a connection between the poles and zeros and the shape of the frequency response. For this we have which has its poles at and its zeros at and. Frequency response (magnitude and phase) for a second-order feedback filter. Values along the unit circle are the frequency response (magnitude) for a second-order feedback filter. Then the magnitude of the frequency response is Equation has a simple geometric interpretation.',\n",
              " '10.11': 'Chapter 10.11: Pole-zero plot for a third-order IIR filter. Frequency response (magnitude and phase) for a third-order IIR filter. From or, determine the value of the frequency response at. Impulse response for a third-order IIR filter.',\n",
              " '10.12': 'Chapter 10.12: Lab~#11 is devoted to IIR filters. Several different filters are demonstrated. Demo: Three-Domains IIR A movie that animates the relationship between the -plane and the unit circle where the frequency response lies. Demo: PeZ GUI A tutorial on how to use PeZ. Demo: PeZ Tutorial A demo that gives more examples of IIR filters. Demo: IIR Filtering',\n",
              " '10.2': 'Chapter 10.2: Input signal to recursive difference equation. Thus, we will consider computing the output from the difference equation in the order. Output signal from recursive difference equation of for the input of Fig.~※. EXAMPLE:\\xa0 Impulse Response For the example of with and, the impulse response is } 0 & } This is the impulse response of the system in.',\n",
              " '10.3': 'Chapter 10.3: First-order IIR system showing one feedback coefficient and two feed-forward coefficients and in Direct Form I structure. Recall that the product of two -transform system functions corresponds to the cascade of two systems. First-order IIR system in Direct Form II structure. then the overall system has the same system function as the original system. so we get Thus, because they have the same system function, and are equivalent to the Direct Form I and, and to the Direct Form II and.',\n",
              " '10.4': 'Chapter 10.4: EXAMPLE:\\xa0 Find Poles and Zeros % The -transform of the feedback filter is easily derived to be When we express in positive powers of we see that there is one pole at and a zero at. EXAMPLE:\\xa0 Zero at % For the -transform of the feedback filter we can write as The system has one pole at, and if we take the limit of as, we get. Determine the system function of the following feedback filter: Show that has a pole at, as well as. If, the pole of the system function is inside the unit circle of the -plane. EXAMPLE:\\xa0 Stability from Pole Location The system whose system function is has a zero at and a pole at. Therefore the system is stable.',\n",
              " '10.5': 'Chapter 10.5: This must always be the case for the frequency response of a discrete-time system. Remember that the frequency response is a complex-valued function of frequency. Frequency Response using MATLAB Frequency responses can be computed and plotted easily by many signal processing software packages. Frequency response (magnitude and phase) for a first-order feedback filter. In this example, we can look for a connection between the poles and zeros and the shape of the frequency response. In this case, we can evaluate the frequency response directly from the formula to get Three-Dimensional Plot of a System Function The relationship between and the pole-zero locations of can be illustrated by making a three-dimensional plot of and then cutting out the frequency response. In this section, we use the system function to illustrate the relationship between the system function and the frequency response. Frequency response (magnitude and phase) for a first-order feedback filter.',\n",
              " '10.6': 'Chapter 10.6: It also defines the impulse response. The filter coefficients play a central role. Following the procedures illustrated for the first-order case, we can also define the -transform system function directly from the filter coefficients as and we can also obtain the frequency response Since the system function is a ratio of polynomials, the poles and zeros of make up a small set of parameters that completely define the filter. The inverse -transform is developed in Section ※.',\n",
              " '10.7': 'Chapter 10.7: This process is called the inverse -transform. Determine the inverse -transform of to get the output. SHORT TABLE OF -TRANSFORMS 1. A General Procedure for Inverse -Transformation Let be any rational -transform of degree in the denominator and in the numerator.',\n",
              " '10.8': 'Chapter 10.8: This complex exponential component is the sinusoidal steady-state component of the output. Illustration of transient and steady-state responses of an IIR system. (a) total output, (b) decaying transient component, (c) steady-state response. Illustration of an unstable IIR system. Pole is at.',\n",
              " '10.9': 'Chapter 10.9: From the quadratic formula, we get two poles at When, both poles are real; when, they are real and equal. The poles and zeros are The system function can be written in factored form as either of the two forms Since the numerator has no term, we have one zero at the origin. Pole-zero plot for system with. Impulse Response of a Second-Order IIR System We have derived the general -transform system function for the second-order filter and we have seen that the denominator polynomial has two roots that define the poles of the second-order filter. The poles and zeros of are plotted in Fig.~※. The poles are at and ; there are two zeros at. Impulse response for system with. Pole-zero plot for system with. Pole-zero plot for system with.'}"
            ]
          },
          "metadata": {},
          "execution_count": 21
        }
      ]
    },
    {
      "cell_type": "markdown",
      "source": [
        "## Evaluate length of summary"
      ],
      "metadata": {
        "id": "XxVMdcMH-zIj"
      }
    },
    {
      "cell_type": "code",
      "source": [
        "print(length_of_summary)"
      ],
      "metadata": {
        "colab": {
          "base_uri": "https://localhost:8080/"
        },
        "id": "gOpWclS1eF7N",
        "outputId": "7230b7b2-aacd-43f5-d3e8-9c72fcd8ff2c"
      },
      "execution_count": 22,
      "outputs": [
        {
          "output_type": "stream",
          "name": "stdout",
          "text": [
            "[4, 7, 5, 4, 4, 5, 4, 5, 7, 4, 4, 4, 4, 5, 5, 6, 4, 4, 4, 4, 4, 4, 4, 5, 4, 7, 7, 4, 5, 4, 6, 4, 4, 6, 5, 8, 6, 4, 7, 5, 4, 4, 4, 8, 5, 7, 8, 4, 6, 5, 4, 6, 5, 4, 6, 5, 4, 4, 4, 4, 4, 6, 4, 4, 4, 4, 5, 6, 4, 4, 5, 5, 8, 9, 6, 4, 4, 4, 5, 6, 5, 9, 6, 8, 6, 5, 5, 4, 4, 5, 4, 7, 4, 4, 4, 5, 7, 4, 6, 4, 5, 6, 8, 4, 4, 5, 9]\n"
          ]
        }
      ]
    },
    {
      "cell_type": "markdown",
      "source": [
        "#### Average length of summary"
      ],
      "metadata": {
        "id": "w435cK7oeQ4x"
      }
    },
    {
      "cell_type": "code",
      "source": [
        "np.average(length_of_summary)"
      ],
      "metadata": {
        "colab": {
          "base_uri": "https://localhost:8080/"
        },
        "id": "J87f0cTjeMPz",
        "outputId": "1ab112f5-0009-4425-8983-070e3e1f715c"
      },
      "execution_count": 23,
      "outputs": [
        {
          "output_type": "execute_result",
          "data": {
            "text/plain": [
              "5.093457943925234"
            ]
          },
          "metadata": {},
          "execution_count": 23
        }
      ]
    },
    {
      "cell_type": "markdown",
      "source": [
        "#### Export summary to csv file"
      ],
      "metadata": {
        "id": "DjgNEmXh-7ZF"
      }
    },
    {
      "cell_type": "code",
      "source": [
        "from google.colab import files\n",
        "l = [(k, v) for k, v in summary.items()]\n",
        "df = pd.DataFrame(l, columns=[\"sub_chapter\",'summarization'])\n",
        "df.to_csv('summary.csv')\n",
        "files.download('summary.csv')"
      ],
      "metadata": {
        "id": "wi3rZwxIdL27"
      },
      "execution_count": 24,
      "outputs": []
    }
  ]
}